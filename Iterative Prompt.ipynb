{
 "cells": [
  {
   "cell_type": "code",
   "execution_count": 1,
   "id": "031b0f86",
   "metadata": {
    "height": 132
   },
   "outputs": [],
   "source": [
    "import openai\n",
    "import os\n",
    "\n",
    "from dotenv import load_dotenv, find_dotenv\n",
    "_ = load_dotenv(find_dotenv()) # read local .env file\n",
    "\n",
    "openai.api_key  = os.getenv('OPENAI_API_KEY')"
   ]
  },
  {
   "cell_type": "code",
   "execution_count": 2,
   "id": "fc9d3b89",
   "metadata": {
    "height": 149
   },
   "outputs": [],
   "source": [
    "def get_completion(prompt, model=\"gpt-3.5-turbo\"):\n",
    "    messages = [{\"role\": \"user\", \"content\": prompt}]\n",
    "    response = openai.ChatCompletion.create(\n",
    "        model=model,\n",
    "        messages=messages,\n",
    "        temperature=0, # this is the degree of randomness of the model's output\n",
    "    )\n",
    "    return response.choices[0].message[\"content\"]"
   ]
  },
  {
   "cell_type": "markdown",
   "id": "453be055",
   "metadata": {
    "height": 30
   },
   "source": [
    "### Marketing Product Description from a product fact sheet"
   ]
  },
  {
   "cell_type": "code",
   "execution_count": 4,
   "id": "dd21ec5b",
   "metadata": {
    "height": 693
   },
   "outputs": [],
   "source": [
    "fact_sheet_chair = \"\"\"\n",
    "OVERVIEW\n",
    "- Part of a beautiful family of mid-century inspired office furniture, \n",
    "including filing cabinets, desks, bookcases, meeting tables, and more.\n",
    "- Several options of shell color and base finishes.\n",
    "- Available with plastic back and front upholstery (SWC-100) \n",
    "or full upholstery (SWC-110) in 10 fabric and 6 leather options.\n",
    "- Base finish options are: stainless steel, matte black, \n",
    "gloss white, or chrome.\n",
    "- Chair is available with or without armrests.\n",
    "- Suitable for home or business settings.\n",
    "- Qualified for contract use.\n",
    "\n",
    "CONSTRUCTION\n",
    "- 5-wheel plastic coated aluminum base.\n",
    "- Pneumatic chair adjust for easy raise/lower action.\n",
    "\n",
    "DIMENSIONS\n",
    "- WIDTH 53 CM | 20.87”\n",
    "- DEPTH 51 CM | 20.08”\n",
    "- HEIGHT 80 CM | 31.50”\n",
    "- SEAT HEIGHT 44 CM | 17.32”\n",
    "- SEAT DEPTH 41 CM | 16.14”\n",
    "\n",
    "OPTIONS\n",
    "- Soft or hard-floor caster options.\n",
    "- Two choices of seat foam densities: \n",
    " medium (1.8 lb/ft3) or high (2.8 lb/ft3)\n",
    "- Armless or 8 position PU armrests \n",
    "\n",
    "MATERIALS\n",
    "SHELL BASE GLIDER\n",
    "- Cast Aluminum with modified nylon PA6/PA66 coating.\n",
    "- Shell thickness: 10 mm.\n",
    "SEAT\n",
    "- HD36 foam\n",
    "\n",
    "COUNTRY OF ORIGIN\n",
    "- Italy\n",
    "\"\"\""
   ]
  },
  {
   "cell_type": "code",
   "execution_count": 7,
   "id": "8483cbeb",
   "metadata": {
    "height": 149
   },
   "outputs": [
    {
     "name": "stdout",
     "output_type": "stream",
     "text": [
      "Introducing our stylish and versatile mid-century inspired office chair, perfect for both home and business settings. This chair is part of a beautiful family of office furniture that includes filing cabinets, desks, bookcases, meeting tables, and more.\n",
      "\n",
      "Customize your chair with several options of shell color and base finishes to suit your personal style. Choose between plastic back and front upholstery or full upholstery in a variety of fabric and leather options. The base finish options include stainless steel, matte black, gloss white, or chrome. You can also choose to have the chair with or without armrests.\n",
      "\n",
      "Constructed with a 5-wheel plastic coated aluminum base, this chair features a pneumatic adjust for easy raise/lower action. The dimensions of the chair are as follows: width 53 cm, depth 51 cm, height 80 cm, seat height 44 cm, and seat depth 41 cm.\n",
      "\n",
      "Customize your chair further with options such as soft or hard-floor caster options, two choices of seat foam densities (medium or high), and armless or 8 position PU armrests.\n",
      "\n",
      "Made with high-quality materials, the shell base glider is constructed with cast aluminum with modified nylon PA6/PA66 coating and a shell thickness of 10 mm. The seat is made with HD36 foam for maximum comfort.\n",
      "\n",
      "This stylish and functional office chair is designed and made in Italy, ensuring quality craftsmanship and attention to detail. Upgrade your workspace with our mid-century inspired office chair today!\n"
     ]
    }
   ],
   "source": [
    "prompt = f\"\"\"\n",
    "Your task is to help a  marketing team create a description for a retail website of a product based on a technical fact sheet\n",
    "\n",
    "Write a product description based on the information provided in the technical specifications delimeted by triple backticks\n",
    "\n",
    "Technical specifications : ```{fact_sheet_chair}```\"\"\"\n",
    "response = get_completion(prompt)\n",
    "print(response)"
   ]
  },
  {
   "cell_type": "markdown",
   "id": "9600573f",
   "metadata": {
    "height": 30
   },
   "source": [
    "### Issue 1: The text is too long"
   ]
  },
  {
   "cell_type": "code",
   "execution_count": 9,
   "id": "64c95f82",
   "metadata": {
    "height": 183
   },
   "outputs": [
    {
     "name": "stdout",
     "output_type": "stream",
     "text": [
      "Introducing our versatile and stylish mid-century inspired office chair. Available in various colors and finishes, with options for upholstery and armrests. Designed for both home and business use, this chair features a durable construction with a 5-wheel base and pneumatic adjustability. Made in Italy with quality materials.\n"
     ]
    }
   ],
   "source": [
    "prompt = f\"\"\"\n",
    "Your task is to help a  marketing team create a description for a retail website of a product based on a technical fact sheet\n",
    "\n",
    "Write a product description based on the information provided in the technical specifications delimeted by triple backticks\n",
    "\n",
    "Use at most 50 words\n",
    "\n",
    "Technical specifications : ```{fact_sheet_chair}```\"\"\"\n",
    "response = get_completion(prompt)\n",
    "print(response)"
   ]
  },
  {
   "cell_type": "code",
   "execution_count": 10,
   "id": "e61ddc2a",
   "metadata": {
    "height": 30
   },
   "outputs": [
    {
     "data": {
      "text/plain": [
       "47"
      ]
     },
     "execution_count": 10,
     "metadata": {},
     "output_type": "execute_result"
    }
   ],
   "source": [
    "len(response.split())"
   ]
  },
  {
   "cell_type": "markdown",
   "id": "d71c6d60",
   "metadata": {
    "height": 30
   },
   "source": [
    "### Issue 2 : It focuses on the wrong details\n",
    "\n",
    "Ask it focus on aspects that are relevant to the intended audiance"
   ]
  },
  {
   "cell_type": "code",
   "execution_count": 11,
   "id": "b0899e19",
   "metadata": {
    "height": 200
   },
   "outputs": [
    {
     "name": "stdout",
     "output_type": "stream",
     "text": [
      "Introducing our sleek and versatile office chair, crafted with precision from high-quality materials. The shell base glider is made from cast aluminum with a durable nylon coating, while the seat features HD36 foam for ultimate comfort. Designed in Italy, this chair is perfect for both home and business use.\n"
     ]
    }
   ],
   "source": [
    "prompt = f\"\"\"\n",
    "Your task is to help a  marketing team create a description for a retail website of a product based on a technical fact sheet\n",
    "\n",
    "Write a product description based on the information provided in the technical specifications delimeted by triple backticks\n",
    "\n",
    "The description is intended for the furniture retailers, so should be technical in nature and focuses on the material the product is constructed from.\n",
    "Use at most 50 words\n",
    "\n",
    "Technical specifications : ```{fact_sheet_chair}```\"\"\"\n",
    "response = get_completion(prompt)\n",
    "print(response)"
   ]
  },
  {
   "cell_type": "code",
   "execution_count": 18,
   "id": "dc05b6fc",
   "metadata": {
    "height": 251
   },
   "outputs": [
    {
     "name": "stdout",
     "output_type": "stream",
     "text": [
      "Introducing our sleek and modern office chair, crafted with a durable cast aluminum shell and base glider coated with modified nylon. The seat is made with high-density HD36 foam for maximum comfort. Perfect for home or business use. \n",
      "\n",
      "Product ID: SWC-100, SWC-110\n"
     ]
    }
   ],
   "source": [
    "prompt = f\"\"\"\n",
    "Your task is to help a  marketing team create a description for a retail website of a product based on a technical fact sheet\n",
    "\n",
    "Write a product description based on the information provided in the technical specifications delimeted by triple backticks\n",
    "\n",
    "The description is intended for the furniture retailers, so should be technical in nature and focuses on the material the product is constructed from.\n",
    "\n",
    "Use at most 50 words\n",
    "\n",
    "At the end of the description, include every 7-character Product ID in the technical specification.\n",
    "\n",
    "Technical specifications : ```{fact_sheet_chair}```\"\"\"\n",
    "response = get_completion(prompt)\n",
    "print(response)"
   ]
  },
  {
   "cell_type": "markdown",
   "id": "0f435ba1",
   "metadata": {
    "height": 30
   },
   "source": [
    "### Issue 3 : Description need a table of dimensions"
   ]
  },
  {
   "cell_type": "code",
   "execution_count": 24,
   "id": "3896b195",
   "metadata": {
    "height": 353
   },
   "outputs": [
    {
     "name": "stdout",
     "output_type": "stream",
     "text": [
      "<div>\n",
      "<p>This mid-century inspired office chair is a perfect blend of style and functionality. Constructed with a durable cast aluminum shell and base glider coated with modified nylon PA6/PA66, this chair is both sturdy and elegant. The seat is made with high-density HD36 foam for maximum comfort.</p>\n",
      "<p>Product IDs: SWC-100, SWC-110</p>\n",
      "</div>\n",
      "\n",
      "<table>\n",
      "  <caption>Product Dimensions</caption>\n",
      "  <tr>\n",
      "    <th>WIDTH</th>\n",
      "    <td>20.87\"</td>\n",
      "  </tr>\n",
      "  <tr>\n",
      "    <th>DEPTH</th>\n",
      "    <td>20.08\"</td>\n",
      "  </tr>\n",
      "  <tr>\n",
      "    <th>HEIGHT</th>\n",
      "    <td>31.50\"</td>\n",
      "  </tr>\n",
      "  <tr>\n",
      "    <th>SEAT HEIGHT</th>\n",
      "    <td>17.32\"</td>\n",
      "  </tr>\n",
      "  <tr>\n",
      "    <th>SEAT DEPTH</th>\n",
      "    <td>16.14\"</td>\n",
      "  </tr>\n",
      "</table>\n"
     ]
    }
   ],
   "source": [
    "prompt = f\"\"\"\n",
    "Your task is to help a  marketing team create a description for a retail website of a product based on a technical fact sheet\n",
    "\n",
    "Write a product description based on the information provided in the technical specifications delimeted by triple backticks\n",
    "\n",
    "The description is intended for the furniture retailers, so should be technical in nature and focuses on the material the product is constructed from.\n",
    "\n",
    "Use at most 50 words\n",
    "\n",
    "At the end of the description, include every 7-character Product IDs in the technical specification.\n",
    "\n",
    "After the description include a table that contains the product dimensions. The table should have two columns. The first colum contains the name of the dimension. In the second include the measurements in inches only.\n",
    "Give the table the title 'Product Dimensions'\n",
    "\n",
    "Format everything as HTML which can be used in a website\n",
    "Place the description in a <div> element\n",
    "\n",
    "Technical specifications : ```{fact_sheet_chair}```\"\"\"\n",
    "response = get_completion(prompt)\n",
    "print(response)"
   ]
  },
  {
   "cell_type": "markdown",
   "id": "d43302f6",
   "metadata": {
    "height": 30
   },
   "source": [
    "## Load python libraries to view HTML"
   ]
  },
  {
   "cell_type": "code",
   "execution_count": 25,
   "id": "361ec2a2",
   "metadata": {
    "height": 64
   },
   "outputs": [
    {
     "data": {
      "text/html": [
       "<div>\n",
       "<p>This mid-century inspired office chair is a perfect blend of style and functionality. Constructed with a durable cast aluminum shell and base glider coated with modified nylon PA6/PA66, this chair is both sturdy and elegant. The seat is made with high-density HD36 foam for maximum comfort.</p>\n",
       "<p>Product IDs: SWC-100, SWC-110</p>\n",
       "</div>\n",
       "\n",
       "<table>\n",
       "  <caption>Product Dimensions</caption>\n",
       "  <tr>\n",
       "    <th>WIDTH</th>\n",
       "    <td>20.87\"</td>\n",
       "  </tr>\n",
       "  <tr>\n",
       "    <th>DEPTH</th>\n",
       "    <td>20.08\"</td>\n",
       "  </tr>\n",
       "  <tr>\n",
       "    <th>HEIGHT</th>\n",
       "    <td>31.50\"</td>\n",
       "  </tr>\n",
       "  <tr>\n",
       "    <th>SEAT HEIGHT</th>\n",
       "    <td>17.32\"</td>\n",
       "  </tr>\n",
       "  <tr>\n",
       "    <th>SEAT DEPTH</th>\n",
       "    <td>16.14\"</td>\n",
       "  </tr>\n",
       "</table>"
      ],
      "text/plain": [
       "<IPython.core.display.HTML object>"
      ]
     },
     "metadata": {},
     "output_type": "display_data"
    }
   ],
   "source": [
    "from IPython.display import display, HTML\n",
    "\n",
    "display(HTML(response))"
   ]
  }
 ],
 "metadata": {
  "kernelspec": {
   "display_name": "Python 3 (ipykernel)",
   "language": "python",
   "name": "python3"
  },
  "language_info": {
   "codemirror_mode": {
    "name": "ipython",
    "version": 3
   },
   "file_extension": ".py",
   "mimetype": "text/x-python",
   "name": "python",
   "nbconvert_exporter": "python",
   "pygments_lexer": "ipython3",
   "version": "3.9.19"
  }
 },
 "nbformat": 4,
 "nbformat_minor": 5
}
