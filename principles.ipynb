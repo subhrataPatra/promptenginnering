{
 "cells": [
  {
   "cell_type": "code",
   "execution_count": 1,
   "id": "1a359025",
   "metadata": {
    "height": 132
   },
   "outputs": [],
   "source": [
    "import openai\n",
    "import os\n",
    "\n",
    "from dotenv import load_dotenv, find_dotenv\n",
    "_ = load_dotenv(find_dotenv())\n",
    "\n",
    "openai.api_key  = os.getenv('OPENAI_API_KEY')"
   ]
  },
  {
   "cell_type": "code",
   "execution_count": 8,
   "id": "f4ee82b0",
   "metadata": {
    "height": 149
   },
   "outputs": [],
   "source": [
    "def get_completion(prompt, model=\"gpt-3.5-turbo\"):\n",
    "    messages = [{\"role\": \"user\", \"content\": prompt}]\n",
    "    response = openai.ChatCompletion.create(\n",
    "        model=model,\n",
    "        messages=messages,\n",
    "        temperature=0, # this is the degree of randomness of the model's output\n",
    "    )\n",
    "    return response.choices[0].message[\"content\"]"
   ]
  },
  {
   "cell_type": "markdown",
   "id": "877954c3",
   "metadata": {
    "height": 30
   },
   "source": [
    "## Principles of Prompt Engineering\n",
    "1. Write clear and specific instructions\n",
    "2. Give the model time to think"
   ]
  },
  {
   "cell_type": "code",
   "execution_count": 9,
   "id": "22eb72ac",
   "metadata": {
    "height": 336
   },
   "outputs": [
    {
     "name": "stdout",
     "output_type": "stream",
     "text": [
      "It is important to provide clear and specific instructions to guide a model towards the desired output and reduce the chances of receiving irrelevant or incorrect responses, even if it means writing a longer prompt.\n"
     ]
    }
   ],
   "source": [
    "# use delimeters to clearly indicate distinct parts of the input\n",
    "text = f\"\"\"\n",
    "You should express what you want a model to do by \\ \n",
    "providing instructions that are as clear and \\ \n",
    "specific as you can possibly make them. \\ \n",
    "This will guide the model towards the desired output, \\ \n",
    "and reduce the chances of receiving irrelevant \\ \n",
    "or incorrect responses. Don't confuse writing a \\ \n",
    "clear prompt with writing a short prompt. \\ \n",
    "In many cases, longer prompts provide more clarity \\ \n",
    "and context for the model, which can lead to \\ \n",
    "more detailed and relevant outputs.\n",
    "\"\"\"\n",
    "\n",
    "prompt = f\"\"\"\n",
    "summarize the text delimented by triple backticks to a single sentence ```{text}```\n",
    "\"\"\"\n",
    "response = get_completion(prompt)\n",
    "print(response)"
   ]
  },
  {
   "cell_type": "code",
   "execution_count": 15,
   "id": "747fd933",
   "metadata": {
    "height": 149
   },
   "outputs": [
    {
     "name": "stdout",
     "output_type": "stream",
     "text": [
      "[\n",
      "    {\n",
      "        \"book_id\": 1,\n",
      "        \"author\": \"Samantha Jones\",\n",
      "        \"genre\": \"Beauty & Makeup\"\n",
      "    },\n",
      "    {\n",
      "        \"book_id\": 2,\n",
      "        \"author\": \"Lily Smith\",\n",
      "        \"genre\": \"Makeup Artistry\"\n",
      "    },\n",
      "    {\n",
      "        \"book_id\": 3,\n",
      "        \"author\": \"Emily White\",\n",
      "        \"genre\": \"DIY Makeup\"\n",
      "    }\n",
      "]\n"
     ]
    }
   ],
   "source": [
    "# ask for a structured output\n",
    "prompt = \"\"\"\n",
    "Generate 3 make up books title along with their author and genres. \n",
    "Provide them in a JSON format with followings keys:\n",
    "book_id,author,genre\n",
    "\"\"\"\n",
    "response = get_completion(prompt)\n",
    "print(response)"
   ]
  },
  {
   "cell_type": "code",
   "execution_count": 16,
   "id": "70e4433c",
   "metadata": {
    "height": 438
   },
   "outputs": [
    {
     "name": "stdout",
     "output_type": "stream",
     "text": [
      "Step 1: Get some water boiling.\n",
      "Step 2: Grab a cup and put a tea bag in it.\n",
      "Step 3: Pour the hot water over the tea bag.\n",
      "Step 4: Let the tea steep for a few minutes.\n",
      "Step 5: Remove the tea bag.\n",
      "Step 6: Add sugar or milk to taste.\n",
      "Step 7: Enjoy your cup of tea.\n"
     ]
    }
   ],
   "source": [
    "# Ask the model whether the onditions are satisfied\n",
    "text = f\"\"\"\n",
    "Making a cup of tea is easy! First, you need to get some \\ \n",
    "water boiling. While that's happening, \\ \n",
    "grab a cup and put a tea bag in it. Once the water is \\ \n",
    "hot enough, just pour it over the tea bag. \\ \n",
    "Let it sit for a bit so the tea can steep. After a \\ \n",
    "few minutes, take out the tea bag. If you \\ \n",
    "like, you can add some sugar or milk to taste. \\ \n",
    "And that's it! You've got yourself a delicious \\ \n",
    "cup of tea to enjoy.\n",
    "\"\"\"\n",
    "prompt = f\"\"\"\n",
    "You will be provided with text delimeted by triple backticks.\n",
    "If the text containls instructions, rewrite the instructions in the following format:\n",
    "Step 1:\n",
    "Step 2:\n",
    ".\n",
    ".\n",
    "Step N:\n",
    "If there are no instrictions, then simply write 'No instructions provided'\n",
    "```{text}```\n",
    "\"\"\"\n",
    "response = get_completion(prompt)\n",
    "print(response)"
   ]
  },
  {
   "cell_type": "code",
   "execution_count": 18,
   "id": "99958516",
   "metadata": {
    "height": 421
   },
   "outputs": [
    {
     "name": "stdout",
     "output_type": "stream",
     "text": [
      "No instructions provided\n"
     ]
    }
   ],
   "source": [
    "text = f\"\"\"\n",
    "The sun is shining brightly today, and the birds are \\\n",
    "singing. It's a beautiful day to go for a \\ \n",
    "walk in the park. The flowers are blooming, and the \\ \n",
    "trees are swaying gently in the breeze. People \\ \n",
    "are out and about, enjoying the lovely weather. \\ \n",
    "Some are having picnics, while others are playing \\ \n",
    "games or simply relaxing on the grass. It's a \\ \n",
    "perfect day to spend time outdoors and appreciate the \\ \n",
    "beauty of nature.\n",
    "\"\"\"\n",
    "prompt = f\"\"\"\n",
    "You will be provided with text delimeted by triple backticks.\n",
    "If the text containls instructions, rewrite the instructions in the following format:\n",
    "Step 1:\n",
    "Step 2:\n",
    ".\n",
    ".\n",
    "Step N:\n",
    "If there are no instrictions, then simply write 'No instructions provided'\n",
    "```{text}```\n",
    "\"\"\"\n",
    "response = get_completion(prompt)\n",
    "print(response)"
   ]
  },
  {
   "cell_type": "code",
   "execution_count": 25,
   "id": "9e81af4d",
   "metadata": {
    "height": 234
   },
   "outputs": [
    {
     "name": "stdout",
     "output_type": "stream",
     "text": [
      "<grandparent>: Resilience is like a mighty oak tree that withstands the fiercest storms, bending but never breaking. It is the ability to bounce back from adversity, to find strength in the face of challenges, and to keep moving forward no matter what obstacles may come your way. Just like the oak tree, resilience grows stronger with each trial it endures.\n"
     ]
    }
   ],
   "source": [
    "# Few Shot Prompting\n",
    "prompt = f\"\"\"\n",
    "Your task is to answer in a consistent style\n",
    "<child>: Teach me about patience.\n",
    "\n",
    "<grandparent>: The river that carves the deepest valley flows from a modest spring; \n",
    "the grandest symphony originates from a single note;\n",
    "the most intricate tapestry begins with a solitary thread.\n",
    "\n",
    "<child>: Teach me about resilience.\n",
    "\"\"\"\n",
    "response = get_completion(prompt)\n",
    "print(response)"
   ]
  },
  {
   "cell_type": "code",
   "execution_count": 27,
   "id": "159b8be3",
   "metadata": {
    "height": 421
   },
   "outputs": [
    {
     "name": "stdout",
     "output_type": "stream",
     "text": [
      "1. Jack and Jill, siblings in a charming village, go on a quest to fetch water from a hilltop well, but encounter misfortune along the way before returning home slightly battered but with undimmed adventurous spirits.\n",
      "\n",
      "2. Jack et Jill, frère et sœur dans un charmant village, partent en quête d'eau d'un puits au sommet d'une colline, mais rencontrent des malheurs en chemin avant de rentrer chez eux légèrement meurtris mais avec des esprits aventureux intacts.\n",
      "\n",
      "3. Jack, Jill\n",
      "\n",
      "4. \n",
      "{\n",
      "  \"french_summary\": \"Jack et Jill, frère et sœur dans un charmant village, partent en quête d'eau d'un puits au sommet d'une colline, mais rencontrent des malheurs en chemin avant de rentrer chez eux légèrement meurtris mais avec des esprits aventureux intacts.\",\n",
      "  \"num_names\": 2\n",
      "}\n"
     ]
    }
   ],
   "source": [
    "# specify the steps required to complete a task\n",
    "text = f\"\"\"\n",
    "In a charming village, siblings Jack and Jill set out on \\ \n",
    "a quest to fetch water from a hilltop \\ \n",
    "well. As they climbed, singing joyfully, misfortune \\ \n",
    "struck—Jack tripped on a stone and tumbled \\ \n",
    "down the hill, with Jill following suit. \\ \n",
    "Though slightly battered, the pair returned home to \\ \n",
    "comforting embraces. Despite the mishap, \\ \n",
    "their adventurous spirits remained undimmed, and they \\ \n",
    "continued exploring with delight.\n",
    "\"\"\"\n",
    "prompt = f\"\"\"\n",
    "perform the following tasks:\n",
    "1. Summarize the text delimeted by triple backticks to a single sentence\n",
    "2. Translate the summary into French\n",
    "3. List each name in the French summary\n",
    "4. Output a json object with keys:\n",
    "keys: french_summary, num_names\n",
    "\n",
    "Separate the answers with linebreaks\n",
    "```{text}```\"\"\"\n",
    "response = get_completion(prompt)\n",
    "print(response)"
   ]
  },
  {
   "cell_type": "code",
   "execution_count": 28,
   "id": "fdda56ad",
   "metadata": {
    "height": 353
   },
   "outputs": [
    {
     "name": "stdout",
     "output_type": "stream",
     "text": [
      "Summary: Jack and Jill, siblings, go on a quest to fetch water from a hilltop well, but encounter misfortune along the way.\n",
      "\n",
      "Translation: Jack et Jill, frère et sœur, partent en quête d'eau d'un puits au sommet d'une colline, mais rencontrent des malheurs en chemin.\n",
      "\n",
      "Names: Jack, Jill\n",
      "\n",
      "Output Json: \n",
      "{\n",
      "  \"french_summary\": \"Jack et Jill, frère et sœur, partent en quête d'eau d'un puits au sommet d'une colline, mais rencontrent des malheurs en chemin.\",\n",
      "  \"num_names\": 2\n",
      "}\n"
     ]
    }
   ],
   "source": [
    "# ask output in a specified format\n",
    "prompt = f\"\"\"\n",
    "Your task is to perform the following actions:\n",
    "1. Summarise the text delimeted by <> into a single sentence\n",
    "2. Translate the summary into French\n",
    "3. List each name in the French summary\n",
    "4. Output a json object with keys:\n",
    "keys: french_summary, num_names\n",
    "\n",
    "Format:\n",
    "Text : <text to summarise>\n",
    "Summary : <summary of the text>\n",
    "Translation : <summary translation>\n",
    "Names : <list of names in summary>\n",
    "Output Json : <json with summary and num_names>\n",
    "\n",
    "Text:<{text}>\n",
    "\"\"\"\n",
    "response = get_completion(prompt)\n",
    "print(response)"
   ]
  },
  {
   "cell_type": "code",
   "execution_count": 29,
   "id": "9537949f",
   "metadata": {
    "height": 455
   },
   "outputs": [
    {
     "name": "stdout",
     "output_type": "stream",
     "text": [
      "The student's solution is correct. The total cost for the first year of operations as a function of the number of square feet is indeed 450x + 100,000.\n"
     ]
    }
   ],
   "source": [
    "# instruct the model to work out its own solution first before running to a conclusion\n",
    "\n",
    "prompt = f\"\"\"\n",
    "Determine if students solution is correct or not\n",
    "Question:\n",
    "I'm building a solar power installation and I need \\\n",
    " help working out the financials. \n",
    "- Land costs $100 / square foot\n",
    "- I can buy solar panels for $250 / square foot\n",
    "- I negotiated a contract for maintenance that will cost \\ \n",
    "me a flat $100k per year, and an additional $10 / square \\\n",
    "foot\n",
    "What is the total cost for the first year of operations \n",
    "as a function of the number of square feet.\n",
    "\n",
    "Student's Solution:\n",
    "Let x be the size of the installation in square feet.\n",
    "Costs:\n",
    "1. Land cost: 100x\n",
    "2. Solar panel cost: 250x\n",
    "3. Maintenance cost: 100,000 + 100x\n",
    "Total cost: 100x + 250x + 100,000 + 100x = 450x + 100,000\n",
    "\"\"\"\n",
    "\n",
    "response = get_completion(prompt)\n",
    "print(response)"
   ]
  },
  {
   "cell_type": "code",
   "execution_count": null,
   "id": "e234ff3b",
   "metadata": {
    "height": 744
   },
   "outputs": [],
   "source": [
    "prompt = f\"\"\"\n",
    "Your task is to determine if the student's solution is correct or not.\n",
    "To solve the problem do the following:\n",
    "First work out your own solution to the problem.\n",
    "Then compare your solution to students solution and evaluate if the students solution is correct or not \n",
    "Do not decide if the student's solution is correct unless you have solved the problem.\n",
    "\n",
    "Use the following format (include all the following in the output):\n",
    "Question :\n",
    "<question here>\n",
    "Student's solution:\n",
    "<student's solution here>\n",
    "Actual Solution:\n",
    "<your steps and solution here>\n",
    "Is the students solution same as the actual Solution.?\n",
    "<yes or no>\n",
    "Student's Grade:\n",
    "<correct or incorrect>\n",
    "\n",
    "Question:\n",
    "```\n",
    "I'm building a solar power installation and I need help \\\n",
    "working out the financials. \n",
    "- Land costs $100 / square foot\n",
    "- I can buy solar panels for $250 / square foot\n",
    "- I negotiated a contract for maintenance that will cost \\\n",
    "me a flat $100k per year, and an additional $10 / square \\\n",
    "foot\n",
    "What is the total cost for the first year of operations \\\n",
    "as a function of the number of square feet.\n",
    "``` \n",
    "Student's solution:\n",
    "```\n",
    "Let x be the size of the installation in square feet.\n",
    "Costs:\n",
    "1. Land cost: 100x\n",
    "2. Solar panel cost: 250x\n",
    "3. Maintenance cost: 100,000 + 100x\n",
    "Total cost: 100x + 250x + 100,000 + 100x = 450x + 100,000\n",
    "```\n",
    "\"\"\"\n",
    "response = get_completion(prompt)\n",
    "print(response)"
   ]
  }
 ],
 "metadata": {
  "kernelspec": {
   "display_name": "Python 3 (ipykernel)",
   "language": "python",
   "name": "python3"
  },
  "language_info": {
   "codemirror_mode": {
    "name": "ipython",
    "version": 3
   },
   "file_extension": ".py",
   "mimetype": "text/x-python",
   "name": "python",
   "nbconvert_exporter": "python",
   "pygments_lexer": "ipython3",
   "version": "3.9.19"
  }
 },
 "nbformat": 4,
 "nbformat_minor": 5
}
